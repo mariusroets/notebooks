{
 "cells": [
  {
   "cell_type": "markdown",
   "metadata": {},
   "source": [
    "# Accounting\n",
    "\n",
    "The purpose of this notebook is to explore some accouting ratios and other calculations, and possibly visualize a company's financial health."
   ]
  },
  {
   "cell_type": "code",
   "execution_count": 1,
   "metadata": {},
   "outputs": [],
   "source": [
    "import finance"
   ]
  },
  {
   "cell_type": "code",
   "execution_count": 204,
   "metadata": {},
   "outputs": [
    {
     "data": {
      "text/html": [
       "<div>\n",
       "<style scoped>\n",
       "    .dataframe tbody tr th:only-of-type {\n",
       "        vertical-align: middle;\n",
       "    }\n",
       "\n",
       "    .dataframe tbody tr th {\n",
       "        vertical-align: top;\n",
       "    }\n",
       "\n",
       "    .dataframe thead th {\n",
       "        text-align: right;\n",
       "    }\n",
       "</style>\n",
       "<table border=\"1\" class=\"dataframe\">\n",
       "  <thead>\n",
       "    <tr style=\"text-align: right;\">\n",
       "      <th></th>\n",
       "      <th>cashflow</th>\n",
       "      <th>annuity</th>\n",
       "      <th>pv</th>\n",
       "      <th>value</th>\n",
       "      <th>capital</th>\n",
       "      <th>interest</th>\n",
       "    </tr>\n",
       "  </thead>\n",
       "  <tbody>\n",
       "    <tr>\n",
       "      <th>0</th>\n",
       "      <td>5000</td>\n",
       "      <td>20501.0</td>\n",
       "      <td>0.0</td>\n",
       "      <td>20501.0</td>\n",
       "      <td>3565.0</td>\n",
       "      <td>1435.0</td>\n",
       "    </tr>\n",
       "    <tr>\n",
       "      <th>1</th>\n",
       "      <td>5000</td>\n",
       "      <td>16936.0</td>\n",
       "      <td>0.0</td>\n",
       "      <td>16936.0</td>\n",
       "      <td>3814.0</td>\n",
       "      <td>1186.0</td>\n",
       "    </tr>\n",
       "    <tr>\n",
       "      <th>2</th>\n",
       "      <td>5000</td>\n",
       "      <td>13122.0</td>\n",
       "      <td>0.0</td>\n",
       "      <td>13122.0</td>\n",
       "      <td>4081.0</td>\n",
       "      <td>919.0</td>\n",
       "    </tr>\n",
       "    <tr>\n",
       "      <th>3</th>\n",
       "      <td>5000</td>\n",
       "      <td>9041.0</td>\n",
       "      <td>0.0</td>\n",
       "      <td>9041.0</td>\n",
       "      <td>4367.0</td>\n",
       "      <td>633.0</td>\n",
       "    </tr>\n",
       "    <tr>\n",
       "      <th>4</th>\n",
       "      <td>5000</td>\n",
       "      <td>4674.0</td>\n",
       "      <td>0.0</td>\n",
       "      <td>4674.0</td>\n",
       "      <td>4673.0</td>\n",
       "      <td>327.0</td>\n",
       "    </tr>\n",
       "  </tbody>\n",
       "</table>\n",
       "</div>"
      ],
      "text/plain": [
       "   cashflow  annuity   pv    value  capital  interest\n",
       "0      5000  20501.0  0.0  20501.0   3565.0    1435.0\n",
       "1      5000  16936.0  0.0  16936.0   3814.0    1186.0\n",
       "2      5000  13122.0  0.0  13122.0   4081.0     919.0\n",
       "3      5000   9041.0  0.0   9041.0   4367.0     633.0\n",
       "4      5000   4674.0  0.0   4674.0   4673.0     327.0"
      ]
     },
     "execution_count": 204,
     "metadata": {},
     "output_type": "execute_result"
    }
   ],
   "source": [
    "annuity_detail(0.07, 5000, 5)"
   ]
  },
  {
   "cell_type": "code",
   "execution_count": 8,
   "metadata": {},
   "outputs": [
    {
     "data": {
      "text/html": [
       "<div>\n",
       "<style scoped>\n",
       "    .dataframe tbody tr th:only-of-type {\n",
       "        vertical-align: middle;\n",
       "    }\n",
       "\n",
       "    .dataframe tbody tr th {\n",
       "        vertical-align: top;\n",
       "    }\n",
       "\n",
       "    .dataframe thead th {\n",
       "        text-align: right;\n",
       "    }\n",
       "</style>\n",
       "<table border=\"1\" class=\"dataframe\">\n",
       "  <thead>\n",
       "    <tr style=\"text-align: right;\">\n",
       "      <th></th>\n",
       "      <th>cashflow</th>\n",
       "      <th>annuity</th>\n",
       "      <th>pv_end</th>\n",
       "      <th>value</th>\n",
       "      <th>capital</th>\n",
       "      <th>interest</th>\n",
       "    </tr>\n",
       "  </thead>\n",
       "  <tbody>\n",
       "    <tr>\n",
       "      <th>0</th>\n",
       "      <td>0</td>\n",
       "      <td>20501.0</td>\n",
       "      <td>0.0</td>\n",
       "      <td>20501.0</td>\n",
       "      <td>0.0</td>\n",
       "      <td>0.0</td>\n",
       "    </tr>\n",
       "    <tr>\n",
       "      <th>1</th>\n",
       "      <td>5000</td>\n",
       "      <td>20501.0</td>\n",
       "      <td>0.0</td>\n",
       "      <td>20501.0</td>\n",
       "      <td>3565.0</td>\n",
       "      <td>1435.0</td>\n",
       "    </tr>\n",
       "    <tr>\n",
       "      <th>2</th>\n",
       "      <td>5000</td>\n",
       "      <td>16936.0</td>\n",
       "      <td>0.0</td>\n",
       "      <td>16936.0</td>\n",
       "      <td>3814.0</td>\n",
       "      <td>1186.0</td>\n",
       "    </tr>\n",
       "    <tr>\n",
       "      <th>3</th>\n",
       "      <td>5000</td>\n",
       "      <td>13122.0</td>\n",
       "      <td>0.0</td>\n",
       "      <td>13122.0</td>\n",
       "      <td>4081.0</td>\n",
       "      <td>919.0</td>\n",
       "    </tr>\n",
       "    <tr>\n",
       "      <th>4</th>\n",
       "      <td>5000</td>\n",
       "      <td>9041.0</td>\n",
       "      <td>0.0</td>\n",
       "      <td>9041.0</td>\n",
       "      <td>4367.0</td>\n",
       "      <td>633.0</td>\n",
       "    </tr>\n",
       "    <tr>\n",
       "      <th>5</th>\n",
       "      <td>5000</td>\n",
       "      <td>4674.0</td>\n",
       "      <td>0.0</td>\n",
       "      <td>4674.0</td>\n",
       "      <td>4673.0</td>\n",
       "      <td>327.0</td>\n",
       "    </tr>\n",
       "  </tbody>\n",
       "</table>\n",
       "</div>"
      ],
      "text/plain": [
       "   cashflow  annuity  pv_end    value  capital  interest\n",
       "0         0  20501.0     0.0  20501.0      0.0       0.0\n",
       "1      5000  20501.0     0.0  20501.0   3565.0    1435.0\n",
       "2      5000  16936.0     0.0  16936.0   3814.0    1186.0\n",
       "3      5000  13122.0     0.0  13122.0   4081.0     919.0\n",
       "4      5000   9041.0     0.0   9041.0   4367.0     633.0\n",
       "5      5000   4674.0     0.0   4674.0   4673.0     327.0"
      ]
     },
     "execution_count": 8,
     "metadata": {},
     "output_type": "execute_result"
    }
   ],
   "source": [
    "finance.annuity_detail(0.07, 5000, 5)"
   ]
  },
  {
   "cell_type": "code",
   "execution_count": 19,
   "metadata": {},
   "outputs": [
    {
     "data": {
      "text/html": [
       "<div>\n",
       "<style scoped>\n",
       "    .dataframe tbody tr th:only-of-type {\n",
       "        vertical-align: middle;\n",
       "    }\n",
       "\n",
       "    .dataframe tbody tr th {\n",
       "        vertical-align: top;\n",
       "    }\n",
       "\n",
       "    .dataframe thead th {\n",
       "        text-align: right;\n",
       "    }\n",
       "</style>\n",
       "<table border=\"1\" class=\"dataframe\">\n",
       "  <thead>\n",
       "    <tr style=\"text-align: right;\">\n",
       "      <th></th>\n",
       "      <th>cashflow</th>\n",
       "      <th>annuity</th>\n",
       "      <th>pv_end</th>\n",
       "      <th>value</th>\n",
       "      <th>capital</th>\n",
       "      <th>interest</th>\n",
       "    </tr>\n",
       "  </thead>\n",
       "  <tbody>\n",
       "    <tr>\n",
       "      <th>0</th>\n",
       "      <td>0</td>\n",
       "      <td>20501.0</td>\n",
       "      <td>0.0</td>\n",
       "      <td>20501.0</td>\n",
       "      <td>0.0</td>\n",
       "      <td>0.0</td>\n",
       "    </tr>\n",
       "    <tr>\n",
       "      <th>1</th>\n",
       "      <td>5000</td>\n",
       "      <td>16936.0</td>\n",
       "      <td>0.0</td>\n",
       "      <td>16936.0</td>\n",
       "      <td>3565.0</td>\n",
       "      <td>1435.0</td>\n",
       "    </tr>\n",
       "    <tr>\n",
       "      <th>2</th>\n",
       "      <td>5000</td>\n",
       "      <td>13122.0</td>\n",
       "      <td>0.0</td>\n",
       "      <td>13122.0</td>\n",
       "      <td>3814.0</td>\n",
       "      <td>1186.0</td>\n",
       "    </tr>\n",
       "    <tr>\n",
       "      <th>3</th>\n",
       "      <td>5000</td>\n",
       "      <td>9041.0</td>\n",
       "      <td>0.0</td>\n",
       "      <td>9041.0</td>\n",
       "      <td>4081.0</td>\n",
       "      <td>919.0</td>\n",
       "    </tr>\n",
       "    <tr>\n",
       "      <th>4</th>\n",
       "      <td>5000</td>\n",
       "      <td>4674.0</td>\n",
       "      <td>0.0</td>\n",
       "      <td>4674.0</td>\n",
       "      <td>4367.0</td>\n",
       "      <td>633.0</td>\n",
       "    </tr>\n",
       "    <tr>\n",
       "      <th>5</th>\n",
       "      <td>5000</td>\n",
       "      <td>1.0</td>\n",
       "      <td>0.0</td>\n",
       "      <td>1.0</td>\n",
       "      <td>4673.0</td>\n",
       "      <td>327.0</td>\n",
       "    </tr>\n",
       "  </tbody>\n",
       "</table>\n",
       "</div>"
      ],
      "text/plain": [
       "   cashflow  annuity  pv_end    value  capital  interest\n",
       "0         0  20501.0     0.0  20501.0      0.0       0.0\n",
       "1      5000  16936.0     0.0  16936.0   3565.0    1435.0\n",
       "2      5000  13122.0     0.0  13122.0   3814.0    1186.0\n",
       "3      5000   9041.0     0.0   9041.0   4081.0     919.0\n",
       "4      5000   4674.0     0.0   4674.0   4367.0     633.0\n",
       "5      5000      1.0     0.0      1.0   4673.0     327.0"
      ]
     },
     "execution_count": 19,
     "metadata": {},
     "output_type": "execute_result"
    }
   ],
   "source": [
    "finance.annuity_detail(0.07, 5000, 5)"
   ]
  },
  {
   "cell_type": "code",
   "execution_count": 10,
   "metadata": {},
   "outputs": [
    {
     "data": {
      "text/plain": [
       "16936.05628231964"
      ]
     },
     "execution_count": 10,
     "metadata": {},
     "output_type": "execute_result"
    }
   ],
   "source": [
    "finance.annuity(i=0.07, cashflow=5000, n=4)"
   ]
  },
  {
   "cell_type": "code",
   "execution_count": 12,
   "metadata": {},
   "outputs": [
    {
     "data": {
      "text/plain": [
       "16936"
      ]
     },
     "execution_count": 12,
     "metadata": {},
     "output_type": "execute_result"
    }
   ],
   "source": [
    "20501-3565"
   ]
  }
 ],
 "metadata": {
  "kernelspec": {
   "display_name": "Python 3",
   "language": "python",
   "name": "python3"
  },
  "language_info": {
   "codemirror_mode": {
    "name": "ipython",
    "version": 3
   },
   "file_extension": ".py",
   "mimetype": "text/x-python",
   "name": "python",
   "nbconvert_exporter": "python",
   "pygments_lexer": "ipython3",
   "version": "3.8.2"
  }
 },
 "nbformat": 4,
 "nbformat_minor": 4
}
